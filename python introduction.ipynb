{
 "cells": [
  {
   "cell_type": "markdown",
   "metadata": {},
   "source": [
    "# Introduction to python"
   ]
  },
  {
   "cell_type": "raw",
   "metadata": {},
   "source": [
    "open source\n",
    "platform independent\n",
    "codes are portable in nature\n",
    "more like a english language- easy in syntax\n",
    "4 major libraries made python very popular \n",
    " - pandas - data analytics\n",
    " - numpy - numerical analysis\n",
    " - matplotlib - plotting graphs\n",
    " - sklearn - machine learning\n",
    " \n",
    " ML is a subset of AI which is predicting future for us.\n",
    " DL is a subset if ML\n",
    " \n",
    "- capability of scaling the code from few line to millions of lines\n",
    "  and it can be integrated in Hadoop and Spark envts\n",
    "- it is end to end development programming language\n",
    "- no of lines of code in python is 1/3rd lines of code in java or c++\n",
    "- less to write, less to debug and less to maintain\n",
    "- 65000 libraries in python\n",
    "\n",
    "python is both interpreted and compiled programming language\n",
    ">>> its an interpreter of python\n",
    "\n",
    "when you install python - IDLE is one tool which comes automatically\n",
    "Anacondas - for development and its IDE\n",
    "          - Spyder\n",
    "\t\t  - Jupyter notebook - ipynb is extention of jupyter notebook\n",
    "\n",
    "Pycharm - Jetbrains company\n",
    "write a code in notepad and run it on command prompt\n",
    "\t\t  "
   ]
  },
  {
   "cell_type": "markdown",
   "metadata": {},
   "source": [
    "# Declaring Variable"
   ]
  },
  {
   "cell_type": "markdown",
   "metadata": {},
   "source": [
    "we don't need to specify the type of variable because Python is a infer language and smart enough to get variable type.\n",
    "\n",
    "RULES:\n",
    "The first character of the variable must be an alphabet or underscore ( _ ).\n",
    "All the characters except the first character may be an alphabet of lower-case(a-z), upper-case (A-Z), underscore, or digit (0-9).\n",
    "Identifier name must not contain any white-space, or special character (!, @, #, %, ^, &, *).\n",
    "Identifier name must not be similar to any keyword defined in the language.\n",
    "Identifier names are case sensitive; for example, my name, and MyName is not the same.\n",
    "Examples of valid identifiers: a123, _n, n_9, etc.\n",
    "Examples of invalid identifiers: 1a, n%4, n 9, etc."
   ]
  },
  {
   "cell_type": "code",
   "execution_count": null,
   "metadata": {
    "collapsed": true
   },
   "outputs": [],
   "source": [
    "#Declaring Variable and Assigning Values\n",
    "name = \"shruti\"  \n",
    "age = 20  \n",
    "marks = 80.50\n",
    "result=True"
   ]
  },
  {
   "cell_type": "code",
   "execution_count": null,
   "metadata": {
    "collapsed": true
   },
   "outputs": [],
   "source": [
    "#printing variable \n",
    "print(name)\n",
    "print(age)\n",
    "print(marks)\n",
    "print(result)\n",
    "\n",
    "#printing type of varibale\n",
    "print(type(name))\n",
    "print(type(age))\n",
    "print(type(marks))\n",
    "print(type(result))"
   ]
  },
  {
   "cell_type": "markdown",
   "metadata": {},
   "source": [
    "As you can see python compiler is detecting the type of varibale automatically we don't need to specify the type of varibale like java (In JAVA: int a=20, string name=\"shruti\")"
   ]
  },
  {
   "cell_type": "code",
   "execution_count": null,
   "metadata": {
    "collapsed": true
   },
   "outputs": [],
   "source": [
    "#Assigning single value to multiple variables\n",
    "x=y=z=50    \n",
    "print(x)    \n",
    "print(y)    \n",
    "print(z)  "
   ]
  },
  {
   "cell_type": "code",
   "execution_count": null,
   "metadata": {
    "collapsed": true
   },
   "outputs": [],
   "source": [
    "#Assigning multiple values to multiple variables\n",
    "a,b,c=5,10,15    \n",
    "print(a)    \n",
    "print(b)    \n",
    "print(c) "
   ]
  },
  {
   "cell_type": "markdown",
   "metadata": {},
   "source": [
    "# Python Variable Types"
   ]
  },
  {
   "cell_type": "markdown",
   "metadata": {},
   "source": [
    "Local Variable:\n",
    "Local variables are the variables that declared inside the function and have scope within the function. Let's understand the following example."
   ]
  },
  {
   "cell_type": "code",
   "execution_count": null,
   "metadata": {
    "collapsed": true
   },
   "outputs": [],
   "source": [
    "# Declaring a function  \n",
    "def sum():  \n",
    "    # Defining local variables. They has scope only within a function  \n",
    "    a = 20  \n",
    "    b = 30  \n",
    "    c = a + b  \n",
    "    print(\"The sum is:\", c)  \n",
    "  \n",
    "# Calling a function  \n",
    "sum()"
   ]
  },
  {
   "cell_type": "markdown",
   "metadata": {},
   "source": [
    "Global Variables:\n",
    "Global variables can be used throughout the program, and its scope is in the entire program. We can use global variables inside or outside the function.\n",
    "\n",
    "A variable declared outside the function is the global variable by default. Python provides the global keyword to use global variable inside the function. If we don't use the global keyword, the function treats it as a local variable. Let's understand the following example."
   ]
  },
  {
   "cell_type": "code",
   "execution_count": null,
   "metadata": {
    "collapsed": true
   },
   "outputs": [],
   "source": [
    "# Declare a variable and initialize it  \n",
    "x = 101  \n",
    "  \n",
    "# Global variable in function  \n",
    "def callingglobal():  \n",
    "    # printing a global variable  \n",
    "    global x  \n",
    "    print(x)  \n",
    "    # modifying a global variable  \n",
    "    x = 'Welcome To Data analyst world'  \n",
    "    print(x)  \n",
    "    \n",
    "callingglobal()  \n",
    "print(x)  "
   ]
  },
  {
   "cell_type": "markdown",
   "metadata": {},
   "source": [
    "Delete a variable -->\n",
    "We can delete the variable using the del keyword. The syntax is given below."
   ]
  },
  {
   "cell_type": "code",
   "execution_count": null,
   "metadata": {
    "collapsed": true
   },
   "outputs": [],
   "source": [
    "x = 6  \n",
    "print(x)  \n",
    "# deleting a variable.   \n",
    "del x  \n",
    "print(x)"
   ]
  },
  {
   "cell_type": "markdown",
   "metadata": {},
   "source": [
    "# Different Types of datatype"
   ]
  },
  {
   "cell_type": "raw",
   "metadata": {},
   "source": [
    "Numbers --> integer,complex number ,float\n",
    "Sequence Type --> string,list,tuple\n",
    "Boolean \n",
    "Set\n",
    "Dictionary\n"
   ]
  },
  {
   "cell_type": "markdown",
   "metadata": {},
   "source": [
    "Let's play around with Numbers"
   ]
  },
  {
   "cell_type": "code",
   "execution_count": null,
   "metadata": {
    "collapsed": true
   },
   "outputs": [],
   "source": [
    "a = 5  \n",
    "print(\"The type of a\", type(a))  \n",
    "  \n",
    "b = 40.5  \n",
    "print(\"The type of b\", type(b))  \n",
    "  \n",
    "c = 1+3j  \n",
    "print(\"The type of c\", type(c))  \n",
    "\n",
    "#isinstance() function is used to check an object belongs to a particular class.\n",
    "print(\" c is a complex number\", isinstance(1+3j,complex))  \n"
   ]
  },
  {
   "cell_type": "markdown",
   "metadata": {},
   "source": [
    "# STRING"
   ]
  },
  {
   "cell_type": "code",
   "execution_count": null,
   "metadata": {
    "collapsed": true
   },
   "outputs": [],
   "source": [
    "str1 = 'hello Shruti!' #string str1    \n",
    "str2 = ' how are you' #string str2    \n",
    "print (str1[0:2]) #printing first two character using slice operator    \n",
    "print (str1[4]) #printing 4th character of the string    \n",
    "print (str1*2) #printing the string twice    \n",
    "print (str1 + str2) #printing the concatenation of str1 and str2    "
   ]
  },
  {
   "cell_type": "markdown",
   "metadata": {},
   "source": [
    "# LIST"
   ]
  },
  {
   "cell_type": "markdown",
   "metadata": {},
   "source": [
    "The list can contain data of different types"
   ]
  },
  {
   "cell_type": "code",
   "execution_count": null,
   "metadata": {
    "collapsed": true
   },
   "outputs": [],
   "source": [
    "#Declaring List\n",
    "\n",
    "list1  = [1, \"hi\", \"Python\", 2]    \n",
    "#Checking type of given list  \n",
    "print(type(list1))  \n",
    "  \n",
    "#Printing the list1  \n",
    "print (list1)  \n",
    "  \n",
    "# List slicing  \n",
    "print (list1[3:])  \n",
    "  \n",
    "# List slicing  \n",
    "print (list1[0:2])   \n",
    "  \n",
    "# List Concatenation using + operator  \n",
    "print (list1 + list1)  \n",
    "  \n",
    "# List repetation using * operator  \n",
    "print (list1 * 3)  "
   ]
  },
  {
   "cell_type": "raw",
   "metadata": {},
   "source": [
    "how to add elements to a list\n",
    "-------------------------------------\n",
    "list1.append() - appends single element in the last\n",
    "list1.extend(list2) - list2 elements get appended in the last\n",
    "list1.insert(loc, value) - insert value at that location\n",
    "list1=list1+list2 - list2 get appended in last"
   ]
  },
  {
   "cell_type": "raw",
   "metadata": {},
   "source": [
    "how to remove elements from a list\n",
    "-------------------------------------------\n",
    "list1.pop() - removes the last element from the list and returns on the screen\n",
    "list1.pop(index) - remove element from that index and returns on the screen\n",
    "del list1[loc] - delete silently from that location\n",
    "list1.remove(value) - remove element first occurance from list1"
   ]
  },
  {
   "cell_type": "markdown",
   "metadata": {},
   "source": [
    "# TUPLE"
   ]
  },
  {
   "cell_type": "markdown",
   "metadata": {},
   "source": [
    "A tuple is a read-only data structure as we can't modify the size and value of the items of a tuple."
   ]
  },
  {
   "cell_type": "code",
   "execution_count": null,
   "metadata": {
    "collapsed": true
   },
   "outputs": [],
   "source": [
    " tup  = (\"hi\", \"Python\", 2)    \n",
    "# Checking type of tup  \n",
    "print (type(tup))    \n",
    "  \n",
    "#Printing the tuple  \n",
    "print (tup)  \n",
    "  \n",
    "# Tuple slicing  \n",
    "print (tup[1:])    \n",
    "print (tup[0:1])    \n",
    "  \n",
    "# Tuple concatenation using + operator  \n",
    "print (tup + tup)    \n",
    "  \n",
    "# Tuple repatation using * operator  \n",
    "print (tup * 3)     \n",
    "  \n",
    "# Adding value to tup. It will throw an error.  \n",
    "tup[2] = \"hi\"  "
   ]
  },
  {
   "cell_type": "markdown",
   "metadata": {},
   "source": [
    "# Dictionary"
   ]
  },
  {
   "cell_type": "markdown",
   "metadata": {},
   "source": [
    "Dictionary is an unordered set of a key-value pair of items"
   ]
  },
  {
   "cell_type": "raw",
   "metadata": {},
   "source": [
    "key value pairs\n",
    "keys are unique, values can be duplicated\n",
    "d.items() - prints key value pairs\n",
    "d.values() - prints values of a dictionary\n",
    "d.keys() - prints keys of a dictionary\n",
    "d[new_key]=value # add new key value pair\n",
    "elements of a dictionary are randomly stored in memory"
   ]
  },
  {
   "cell_type": "code",
   "execution_count": null,
   "metadata": {
    "collapsed": true
   },
   "outputs": [],
   "source": [
    "d = {1:'Jimmy', 2:'Alex', 3:'john', 4:'mike'}     \n",
    "  \n",
    "# Printing dictionary  \n",
    "print (d)  \n",
    "  \n",
    "# Accesing value using keys  \n",
    "print(\"1st name is \"+d[1])   \n",
    "print(\"2nd name is \"+ d[4])    \n",
    "  \n",
    "print (d.keys())    \n",
    "print (d.values())   "
   ]
  },
  {
   "cell_type": "markdown",
   "metadata": {},
   "source": [
    "# Boolean"
   ]
  },
  {
   "cell_type": "markdown",
   "metadata": {},
   "source": [
    "Boolean type provides two built-in values, True and False."
   ]
  },
  {
   "cell_type": "code",
   "execution_count": null,
   "metadata": {
    "collapsed": true
   },
   "outputs": [],
   "source": [
    "# Python program to check the boolean type  \n",
    "print(type(True))  \n",
    "print(type(False))  "
   ]
  },
  {
   "cell_type": "markdown",
   "metadata": {},
   "source": [
    "# Set"
   ]
  },
  {
   "cell_type": "markdown",
   "metadata": {},
   "source": [
    "Python Set is the unordered collection of the data type. It is iterable, mutable(can modify after creation), and has unique elements"
   ]
  },
  {
   "cell_type": "code",
   "execution_count": null,
   "metadata": {
    "collapsed": true
   },
   "outputs": [],
   "source": [
    "# Creating Empty set  \n",
    "set1 = set()  \n",
    "  \n",
    "set2 = {'James', 2, 3,'Python'}  \n",
    "  \n",
    "#Printing Set value  \n",
    "print(set2)  \n",
    "  \n",
    "# Adding element to the set  \n",
    "  \n",
    "set2.add(10)  \n",
    "print(set2)  \n",
    "  \n",
    "#Removing element from the set  \n",
    "set2.remove(2)  \n",
    "print(set2)  "
   ]
  },
  {
   "cell_type": "markdown",
   "metadata": {},
   "source": [
    "Python Keyword : https://www.javatpoint.com/python-keywords"
   ]
  },
  {
   "cell_type": "markdown",
   "metadata": {},
   "source": [
    "# if-else-elif"
   ]
  },
  {
   "cell_type": "code",
   "execution_count": null,
   "metadata": {
    "collapsed": true
   },
   "outputs": [],
   "source": [
    "x = int(input(\"Please enter an integer: \"))\n",
    "if x >= 60:\n",
    "   print(\"grade A\")\n",
    "elif x < 60 and x >= 50 :\n",
    "   print(\"grade B\")\n",
    "elif x >=30 and x <= 50:\n",
    "   print(\"grade c\")\n",
    "else:\n",
    "   print(\"fail\")"
   ]
  },
  {
   "cell_type": "markdown",
   "metadata": {},
   "source": [
    "# For"
   ]
  },
  {
   "cell_type": "code",
   "execution_count": null,
   "metadata": {
    "collapsed": true
   },
   "outputs": [],
   "source": [
    "for i in range(10):  \n",
    "    print(i,end = ' ')  "
   ]
  },
  {
   "cell_type": "code",
   "execution_count": null,
   "metadata": {
    "collapsed": true
   },
   "outputs": [],
   "source": [
    "list = [1,2,3,4,5,6,7,8,9,10]  \n",
    "n = 5  \n",
    "for i in list:  \n",
    "    c = n*i  \n",
    "    print(c)  "
   ]
  },
  {
   "cell_type": "code",
   "execution_count": 1,
   "metadata": {},
   "outputs": [
    {
     "name": "stdout",
     "output_type": "stream",
     "text": [
      "cat 3\n",
      "window 6\n",
      "defenestrate 12\n"
     ]
    }
   ],
   "source": [
    "words = ['cat', 'window', 'defenestrate']\n",
    "for w in words:\n",
    "    print(w, len(w))"
   ]
  },
  {
   "cell_type": "code",
   "execution_count": 2,
   "metadata": {},
   "outputs": [
    {
     "name": "stdout",
     "output_type": "stream",
     "text": [
      "2  is prime number\n",
      "3  is prime number\n",
      "4  is not prime number\n",
      "5  is prime number\n",
      "6  is not prime number\n",
      "7  is prime number\n",
      "8  is not prime number\n",
      "9  is not prime number\n"
     ]
    }
   ],
   "source": [
    "for i in range(2,10):\n",
    "    for j in range(2,i):\n",
    "        if i%j==0:\n",
    "           print(i,\" is not prime number\")\n",
    "           break\n",
    "    else:\n",
    "        print(i ,\" is prime number\")"
   ]
  },
  {
   "cell_type": "code",
   "execution_count": 3,
   "metadata": {},
   "outputs": [
    {
     "name": "stdout",
     "output_type": "stream",
     "text": [
      "2 is even number\n",
      "3 is not prime number\n",
      "4 is even number\n",
      "5 is not prime number\n",
      "6 is even number\n",
      "7 is not prime number\n",
      "8 is even number\n",
      "9 is not prime number\n",
      "10 is even number\n",
      "11 is not prime number\n",
      "12 is even number\n",
      "13 is not prime number\n",
      "14 is even number\n",
      "15 is not prime number\n",
      "16 is even number\n",
      "17 is not prime number\n",
      "18 is even number\n",
      "19 is not prime number\n"
     ]
    }
   ],
   "source": [
    "for i in range (2,20):\n",
    "    if i%2 == 0:\n",
    "        print(i,\"is even number\")\n",
    "    else:\n",
    "        print(i,\"is not prime number\")"
   ]
  },
  {
   "cell_type": "markdown",
   "metadata": {},
   "source": [
    "# while"
   ]
  },
  {
   "cell_type": "code",
   "execution_count": null,
   "metadata": {
    "collapsed": true
   },
   "outputs": [],
   "source": [
    "def countdigit(n):\n",
    "    count=0\n",
    "    while(n >0):\n",
    "        n =n//10\n",
    "        count=count+1\n",
    "    return count"
   ]
  },
  {
   "cell_type": "code",
   "execution_count": null,
   "metadata": {
    "collapsed": true
   },
   "outputs": [],
   "source": [
    "countdigit(141244)"
   ]
  },
  {
   "cell_type": "code",
   "execution_count": null,
   "metadata": {
    "collapsed": true
   },
   "outputs": [],
   "source": []
  }
 ],
 "metadata": {
  "kernelspec": {
   "display_name": "Python 3",
   "language": "python",
   "name": "python3"
  },
  "language_info": {
   "codemirror_mode": {
    "name": "ipython",
    "version": 3
   },
   "file_extension": ".py",
   "mimetype": "text/x-python",
   "name": "python",
   "nbconvert_exporter": "python",
   "pygments_lexer": "ipython3",
   "version": "3.6.3"
  }
 },
 "nbformat": 4,
 "nbformat_minor": 2
}
